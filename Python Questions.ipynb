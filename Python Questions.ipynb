{
 "cells": [
  {
   "cell_type": "code",
   "execution_count": 185,
   "metadata": {},
   "outputs": [],
   "source": [
    "import re\n",
    "from collections import OrderedDict"
   ]
  },
  {
   "cell_type": "code",
   "execution_count": 186,
   "metadata": {},
   "outputs": [
    {
     "data": {
      "text/plain": [
       "4"
      ]
     },
     "execution_count": 186,
     "metadata": {},
     "output_type": "execute_result"
    }
   ],
   "source": [
    "f=open('student.txt','r')\n",
    "columns=f.readline()\n",
    "columns=columns.strip().split(',')\n",
    "len(columns)"
   ]
  },
  {
   "cell_type": "code",
   "execution_count": 187,
   "metadata": {},
   "outputs": [
    {
     "name": "stdout",
     "output_type": "stream",
     "text": [
      "<Subject>\n",
      "<Rollno>\n",
      "<StudName>\n",
      "<Marks>\n"
     ]
    }
   ],
   "source": [
    "for i in range(len(columns)):\n",
    "    print(columns[i])"
   ]
  },
  {
   "cell_type": "code",
   "execution_count": 188,
   "metadata": {},
   "outputs": [
    {
     "data": {
      "text/plain": [
       "('<Rollno>', '<StudName>', '<Subject>', '<Marks>')"
      ]
     },
     "execution_count": 188,
     "metadata": {},
     "output_type": "execute_result"
    }
   ],
   "source": [
    "ff= open(\"tempstud.txt\",'r') \n",
    "st=ff.readline()\n",
    "list_sp = re.findall(r'\\<.*?\\>', st)\n",
    "list_sp=tuple(list_sp)\n",
    "list_sp"
   ]
  },
  {
   "cell_type": "code",
   "execution_count": 193,
   "metadata": {},
   "outputs": [
    {
     "name": "stdout",
     "output_type": "stream",
     "text": [
      "OrderedDict([('<Rollno>', '<Rollno>'), ('<StudName>', '<StudName>'), ('<Subject>', '<Subject>'), ('<Marks>', '<Marks>')])\n",
      "OrderedDict([('<Rollno>', '101'), ('<StudName>', 'Santosh'), ('<Subject>', 'maths'), ('<Marks>', '35')])\n",
      "OrderedDict([('<Rollno>', '102'), ('<StudName>', 'Hina'), ('<Subject>', 'English'), ('<Marks>', '41')])\n",
      "OrderedDict([('<Rollno>', '101'), ('<StudName>', 'Santosh'), ('<Subject>', 'Hindi'), ('<Marks>', '30')])\n"
     ]
    }
   ],
   "source": [
    "\n",
    "d1={}\n",
    "c=0\n",
    "with open(\"student.txt\",'r') as f:\n",
    "    for line in f: \n",
    "        desc = list(line.strip().split(',')) \n",
    "        i=0\n",
    "        d = {}\n",
    "        while i <len(columns):\n",
    "            d[columns[i]]=desc[i]\n",
    "            i=i+1\n",
    "        e = OrderedDict(sorted(d.items(), key=lambda x: list_sp.index(x[0])))\n",
    "        print(e)\n",
    "        d1[c]=e\n",
    "        c=c+1"
   ]
  },
  {
   "cell_type": "code",
   "execution_count": 194,
   "metadata": {},
   "outputs": [
    {
     "data": {
      "text/plain": [
       "{0: OrderedDict([('<Rollno>', '<Rollno>'),\n",
       "              ('<StudName>', '<StudName>'),\n",
       "              ('<Subject>', '<Subject>'),\n",
       "              ('<Marks>', '<Marks>')]),\n",
       " 1: OrderedDict([('<Rollno>', '101'),\n",
       "              ('<StudName>', 'Santosh'),\n",
       "              ('<Subject>', 'maths'),\n",
       "              ('<Marks>', '35')]),\n",
       " 2: OrderedDict([('<Rollno>', '102'),\n",
       "              ('<StudName>', 'Hina'),\n",
       "              ('<Subject>', 'English'),\n",
       "              ('<Marks>', '41')]),\n",
       " 3: OrderedDict([('<Rollno>', '101'),\n",
       "              ('<StudName>', 'Santosh'),\n",
       "              ('<Subject>', 'Hindi'),\n",
       "              ('<Marks>', '30')])}"
      ]
     },
     "execution_count": 194,
     "metadata": {},
     "output_type": "execute_result"
    }
   ],
   "source": [
    "d1"
   ]
  },
  {
   "cell_type": "code",
   "execution_count": 195,
   "metadata": {},
   "outputs": [],
   "source": [
    "del d1[0]"
   ]
  },
  {
   "cell_type": "code",
   "execution_count": 196,
   "metadata": {
    "scrolled": false
   },
   "outputs": [
    {
     "data": {
      "text/plain": [
       "{1: OrderedDict([('<Rollno>', '101'),\n",
       "              ('<StudName>', 'Santosh'),\n",
       "              ('<Subject>', 'maths'),\n",
       "              ('<Marks>', '35')]),\n",
       " 2: OrderedDict([('<Rollno>', '102'),\n",
       "              ('<StudName>', 'Hina'),\n",
       "              ('<Subject>', 'English'),\n",
       "              ('<Marks>', '41')]),\n",
       " 3: OrderedDict([('<Rollno>', '101'),\n",
       "              ('<StudName>', 'Santosh'),\n",
       "              ('<Subject>', 'Hindi'),\n",
       "              ('<Marks>', '30')])}"
      ]
     },
     "execution_count": 196,
     "metadata": {},
     "output_type": "execute_result"
    }
   ],
   "source": [
    "d1"
   ]
  },
  {
   "cell_type": "code",
   "execution_count": 197,
   "metadata": {},
   "outputs": [],
   "source": [
    "roll=[]\n",
    "for key in d1.keys():\n",
    "    rr=d1[key]['<Rollno>']\n",
    "    roll.append(rr)\n",
    "roll=list(dict.fromkeys(roll))"
   ]
  },
  {
   "cell_type": "code",
   "execution_count": 198,
   "metadata": {},
   "outputs": [],
   "source": [
    "name=[]\n",
    "for key in d1.keys():\n",
    "    rr=d1[key]['<StudName>']\n",
    "    name.append(rr)\n",
    "name=list(dict.fromkeys(name))"
   ]
  },
  {
   "cell_type": "code",
   "execution_count": 199,
   "metadata": {},
   "outputs": [],
   "source": [
    "### Creating Student Files \n",
    "\n",
    "for key in d1.keys(): \n",
    "    studname=d1[key]['<StudName>'].strip()\n",
    "    rollno=d1[key]['<Rollno>']\n",
    "    p_str=st\n",
    "    with open(studname+'.'+rollno+'.txt','a') as outf: #file is open in append mode\n",
    "        for i in list_sp:\n",
    "            exp=r''+i+''\n",
    "            p_str=re.sub(exp,d1[key][i],p_str) \n",
    "        \n",
    "        outf.write(p_str)\n",
    "        p_str=\"\"     "
   ]
  },
  {
   "cell_type": "code",
   "execution_count": 200,
   "metadata": {},
   "outputs": [],
   "source": [
    "for i in range(len(roll)):\n",
    "    fnme=name[i].strip()+'.'+roll[i]+'.txt'\n",
    "    with open(fnme,'a') as prin:\n",
    "        total=0 \n",
    "        c=0\n",
    "        for key in d1.keys():\n",
    "            rr=d1[key]['<Rollno>']\n",
    "            if roll[i]==rr:\n",
    "                mm=int(d1[key]['<Marks>'])\n",
    "                c=c+1\n",
    "                total=total+mm\n",
    "                if c>1:\n",
    "                    prin.write('Total'+str(total))"
   ]
  },
  {
   "cell_type": "code",
   "execution_count": null,
   "metadata": {},
   "outputs": [],
   "source": []
  }
 ],
 "metadata": {
  "kernelspec": {
   "display_name": "Python 3",
   "language": "python",
   "name": "python3"
  },
  "language_info": {
   "codemirror_mode": {
    "name": "ipython",
    "version": 3
   },
   "file_extension": ".py",
   "mimetype": "text/x-python",
   "name": "python",
   "nbconvert_exporter": "python",
   "pygments_lexer": "ipython3",
   "version": "3.7.4"
  }
 },
 "nbformat": 4,
 "nbformat_minor": 2
}
